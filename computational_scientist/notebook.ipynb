{
  "cells": [
    {
      "cell_type": "markdown",
      "metadata": {
        "id": "view-in-github",
        "colab_type": "text"
      },
      "source": [
        "<a href=\"https://colab.research.google.com/gist/shiqisc925-hub/68715723c315a8909ac87e4888bb70b8/-colab.ipynb\" target=\"_parent\"><img src=\"https://colab.research.google.com/assets/colab-badge.svg\" alt=\"Open In Colab\"/></a>"
      ]
    },
    {
      "cell_type": "code",
      "source": [
        "!pip install --upgrade setuptools\n",
        "!pip install --upgrade pip\n",
        "!pip install nashpy\n",
        "!pip install quantecon\n",
        "\n",
        "import numpy as np\n",
        "import nashpy as nash\n",
        "import quantecon.game_theory as gt\n",
        "\n",
        "endowment = 150\n",
        "multiplier = 1.5\n",
        "players = 2\n",
        "\n",
        "contributions = [0, 50, 100, 150]\n",
        "n_strategies = len(contributions)\n",
        "\n",
        "payoff_matrix = np.zeros((n_strategies, n_strategies, 2))\n",
        "\n",
        "for i, c0 in enumerate(contributions):\n",
        "    for j, c1 in enumerate(contributions):\n",
        "        public_pool = (c0 + c1) * multiplier\n",
        "        share = public_pool / players\n",
        "        payoff_matrix[i, j, 0] = endowment - c0 + share\n",
        "        payoff_matrix[i, j, 1] = endowment - c1 + share\n",
        "\n",
        "A = payoff_matrix[:,:,0]\n",
        "B = payoff_matrix[:,:,1]\n",
        "\n",
        "game = nash.Game(A, B)\n",
        "print(\"=== NashPy: Normal Form Game Matrix ===\")\n",
        "print(game)\n",
        "\n",
        "print(\"\\n=== NashPy: Nash Equilibria (Support Enumeration) ===\")\n",
        "equilibria = game.support_enumeration()\n",
        "for eq in equilibria:\n",
        "    print(eq)\n",
        "\n",
        "g_pg = gt.NormalFormGame(payoff_matrix)\n",
        "print(\"\\n=== QuantEcon: Normal Form Game Matrix ===\")\n",
        "print(g_pg)\n",
        "\n",
        "NE_pure = gt.pure_nash_brute(g_pg)\n",
        "print(\"\\n=== QuantEcon: Pure Strategy Nash Equilibria ===\")\n",
        "print(NE_pure)\n",
        "\n",
        "NE_mixed = gt.support_enumeration(g_pg)\n",
        "print(\"\\n=== QuantEcon: Mixed Strategy Nash Equilibria ===\")\n",
        "print(NE_mixed)\n"
      ],
      "metadata": {
        "colab": {
          "base_uri": "https://localhost:8080/"
        },
        "id": "63KfZXti1Z4y",
        "outputId": "4f4f4262-0714-4f2f-8521-8ef9464a16e9"
      },
      "execution_count": 1,
      "outputs": [
        {
          "output_type": "stream",
          "name": "stdout",
          "text": [
            "Requirement already satisfied: setuptools in /usr/local/lib/python3.12/dist-packages (80.9.0)\n",
            "Requirement already satisfied: pip in /usr/local/lib/python3.12/dist-packages (25.2)\n",
            "Requirement already satisfied: nashpy in /usr/local/lib/python3.12/dist-packages (0.0.41)\n",
            "Requirement already satisfied: numpy>=1.21.0 in /usr/local/lib/python3.12/dist-packages (from nashpy) (2.0.2)\n",
            "Requirement already satisfied: scipy>=0.19.0 in /usr/local/lib/python3.12/dist-packages (from nashpy) (1.16.1)\n",
            "Requirement already satisfied: networkx>=3.0.0 in /usr/local/lib/python3.12/dist-packages (from nashpy) (3.5)\n",
            "Requirement already satisfied: deprecated>=1.2.14 in /usr/local/lib/python3.12/dist-packages (from nashpy) (1.2.18)\n",
            "Requirement already satisfied: wrapt<2,>=1.10 in /usr/local/lib/python3.12/dist-packages (from deprecated>=1.2.14->nashpy) (1.17.3)\n",
            "Collecting quantecon\n",
            "  Downloading quantecon-0.10.1-py3-none-any.whl.metadata (5.3 kB)\n",
            "Requirement already satisfied: numba>=0.49.0 in /usr/local/lib/python3.12/dist-packages (from quantecon) (0.60.0)\n",
            "Requirement already satisfied: numpy>=1.17.0 in /usr/local/lib/python3.12/dist-packages (from quantecon) (2.0.2)\n",
            "Requirement already satisfied: requests in /usr/local/lib/python3.12/dist-packages (from quantecon) (2.32.4)\n",
            "Requirement already satisfied: scipy>=1.5.0 in /usr/local/lib/python3.12/dist-packages (from quantecon) (1.16.1)\n",
            "Requirement already satisfied: sympy in /usr/local/lib/python3.12/dist-packages (from quantecon) (1.13.3)\n",
            "Requirement already satisfied: llvmlite<0.44,>=0.43.0dev0 in /usr/local/lib/python3.12/dist-packages (from numba>=0.49.0->quantecon) (0.43.0)\n",
            "Requirement already satisfied: charset_normalizer<4,>=2 in /usr/local/lib/python3.12/dist-packages (from requests->quantecon) (3.4.3)\n",
            "Requirement already satisfied: idna<4,>=2.5 in /usr/local/lib/python3.12/dist-packages (from requests->quantecon) (3.10)\n",
            "Requirement already satisfied: urllib3<3,>=1.21.1 in /usr/local/lib/python3.12/dist-packages (from requests->quantecon) (2.5.0)\n",
            "Requirement already satisfied: certifi>=2017.4.17 in /usr/local/lib/python3.12/dist-packages (from requests->quantecon) (2025.8.3)\n",
            "Requirement already satisfied: mpmath<1.4,>=1.1.0 in /usr/local/lib/python3.12/dist-packages (from sympy->quantecon) (1.3.0)\n",
            "Downloading quantecon-0.10.1-py3-none-any.whl (325 kB)\n",
            "Installing collected packages: quantecon\n",
            "Successfully installed quantecon-0.10.1\n",
            "=== NashPy: Normal Form Game Matrix ===\n",
            "Bi matrix game with payoff matrices:\n",
            "\n",
            "Row player:\n",
            "[[150.  187.5 225.  262.5]\n",
            " [137.5 175.  212.5 250. ]\n",
            " [125.  162.5 200.  237.5]\n",
            " [112.5 150.  187.5 225. ]]\n",
            "\n",
            "Column player:\n",
            "[[150.  137.5 125.  112.5]\n",
            " [187.5 175.  162.5 150. ]\n",
            " [225.  212.5 200.  187.5]\n",
            " [262.5 250.  237.5 225. ]]\n",
            "\n",
            "=== NashPy: Nash Equilibria (Support Enumeration) ===\n",
            "(array([1., 0., 0., 0.]), array([1., 0., 0., 0.]))\n",
            "\n",
            "=== QuantEcon: Normal Form Game Matrix ===\n",
            "2-player NormalFormGame with payoff profile array:\n",
            "[[[150. , 150. ],  [187.5, 137.5],  [225. , 125. ],  [262.5, 112.5]],\n",
            " [[137.5, 187.5],  [175. , 175. ],  [212.5, 162.5],  [250. , 150. ]],\n",
            " [[125. , 225. ],  [162.5, 212.5],  [200. , 200. ],  [237.5, 187.5]],\n",
            " [[112.5, 262.5],  [150. , 250. ],  [187.5, 237.5],  [225. , 225. ]]]\n",
            "\n",
            "=== QuantEcon: Pure Strategy Nash Equilibria ===\n",
            "[(0, 0)]\n",
            "\n",
            "=== QuantEcon: Mixed Strategy Nash Equilibria ===\n",
            "[(array([1., 0., 0., 0.]), array([1., 0., 0., 0.]))]\n"
          ]
        }
      ]
    }
  ],
  "metadata": {
    "colab": {
      "name": "欢迎使用 Colab",
      "provenance": [],
      "include_colab_link": true
    },
    "kernelspec": {
      "display_name": "Python 3",
      "name": "python3"
    }
  },
  "nbformat": 4,
  "nbformat_minor": 0
}